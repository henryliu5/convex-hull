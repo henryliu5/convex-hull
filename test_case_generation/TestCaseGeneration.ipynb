{
 "cells": [
  {
   "cell_type": "code",
   "execution_count": 35,
   "metadata": {},
   "outputs": [],
   "source": [
    "import math\n",
    "import random\n",
    "import matplotlib as plt\n",
    "import numpy as np\n",
    "import numpy as np\n",
    "import matplotlib.pyplot as plt\n",
    "import math\n",
    "import sys"
   ]
  },
  {
   "cell_type": "code",
   "execution_count": 36,
   "metadata": {},
   "outputs": [],
   "source": [
    "def plot_points(x,y):\n",
    "    for i in range(0, len(x)):\n",
    "        plt.plot(x[i], y[i], 'ro-')"
   ]
  },
  {
   "cell_type": "code",
   "execution_count": 37,
   "metadata": {},
   "outputs": [],
   "source": [
    "def generate_circle(num_points, percentage):\n",
    "    x_list=list()\n",
    "    y_list=list()\n",
    "    #Generates hull points\n",
    "    num_hull = int(num_points * percentage)\n",
    "    for i in range(num_hull):\n",
    "        theta = random.random() * 2 * math.pi\n",
    "        r = 1 + random.random() * 0.05\n",
    "        x,y = r * math.cos(theta), r * math.sin(theta)\n",
    "        x_list.append(x)\n",
    "        y_list.append(y)\n",
    "    \n",
    "    num_non_hull = num_points - num_hull\n",
    "    for i in range(num_non_hull):\n",
    "        theta = random.random() * 2 * math.pi\n",
    "        r = random.random() * 1\n",
    "        x,y = r * math.cos(theta), r * math.sin(theta)\n",
    "        x_list.append(x)\n",
    "        y_list.append(y)\n",
    "    return x_list,y_list"
   ]
  },
  {
   "cell_type": "code",
   "execution_count": 50,
   "metadata": {},
   "outputs": [],
   "source": [
    "def generate_uniform(num_points):\n",
    "    x_list=list()\n",
    "    y_list=list()\n",
    "    #Generates hull points\n",
    "    for i in range((num_points)):\n",
    "        x,y = random.random() * 2 - 1, random.random() * 2 - 1\n",
    "        x_list.append(x)\n",
    "        y_list.append(y)\n",
    "    return x_list,y_list"
   ]
  },
  {
   "cell_type": "code",
   "execution_count": 59,
   "metadata": {},
   "outputs": [],
   "source": [
    "def generate_normal(num_points):\n",
    "    x_list=list()\n",
    "    y_list=list()\n",
    "    #Generates hull points\n",
    "    for i in range((num_points)):\n",
    "        x,y = np.random.normal(), np.random.normal()\n",
    "        x_list.append(x)\n",
    "        y_list.append(y)\n",
    "    return x_list,y_list"
   ]
  },
  {
   "cell_type": "code",
   "execution_count": 64,
   "metadata": {},
   "outputs": [],
   "source": [
    "def generate_normal_circle(num_points):\n",
    "    x_list=list()\n",
    "    y_list=list()\n",
    "    #Generates hull points\n",
    "    for i in range((num_points)):\n",
    "        r,theta = np.random.normal(), random.random() * 2 * math.pi\n",
    "        x,y = r * math.cos(theta), r * math.sin(theta)\n",
    "        x_list.append(x)\n",
    "        y_list.append(y)\n",
    "    return x_list,y_list"
   ]
  },
  {
   "cell_type": "code",
   "execution_count": 65,
   "metadata": {},
   "outputs": [],
   "source": [
    "x,y=generate_circle(100,0.95,\"readm\")"
   ]
  },
  {
   "cell_type": "code",
   "execution_count": 66,
   "metadata": {},
   "outputs": [],
   "source": [
    "x,y = generate_uniform(100)"
   ]
  },
  {
   "cell_type": "code",
   "execution_count": 67,
   "metadata": {},
   "outputs": [],
   "source": [
    "x,y = generate_normal(100)"
   ]
  },
  {
   "cell_type": "code",
   "execution_count": 70,
   "metadata": {},
   "outputs": [],
   "source": [
    "x,y = generate_normal_circle(200)"
   ]
  },
  {
   "cell_type": "code",
   "execution_count": 71,
   "metadata": {},
   "outputs": [
    {
     "data": {
      "image/png": "[encoded data removed]",
      "text/plain": [
       "<Figure size 432x288 with 1 Axes>"
      ]
     },
     "metadata": {
      "needs_background": "light"
     },
     "output_type": "display_data"
    }
   ],
   "source": [
    "plot_points(x,y)\n",
    "plt.show()"
   ]
  },
  {
   "cell_type": "code",
   "execution_count": null,
   "metadata": {},
   "outputs": [],
   "source": []
  }
 ],
 "metadata": {
  "kernelspec": {
   "display_name": "Python 3",
   "language": "python",
   "name": "python3"
  },
  "language_info": {
   "codemirror_mode": {
    "name": "ipython",
    "version": 3
   },
   "file_extension": ".py",
   "mimetype": "text/x-python",
   "name": "python",
   "nbconvert_exporter": "python",
   "pygments_lexer": "ipython3",
   "version": "3.8.3"
  }
 },
 "nbformat": 4,
 "nbformat_minor": 4
}
